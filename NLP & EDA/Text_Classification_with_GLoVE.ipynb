{
  "nbformat": 4,
  "nbformat_minor": 0,
  "metadata": {
    "colab": {
      "name": "Text Classification with GLoVE.ipynb",
      "provenance": []
    },
    "kernelspec": {
      "name": "python3",
      "display_name": "Python 3"
    }
  },
  "cells": [
    {
      "cell_type": "code",
      "metadata": {
        "id": "ZneoWpyy5ooI",
        "colab_type": "code",
        "colab": {}
      },
      "source": [
        "# Authentication for loading data from Google Drive\n",
        "# Import packages\n",
        "from pydrive.auth import GoogleAuth\n",
        "from pydrive.drive import GoogleDrive\n",
        "from google.colab import auth\n",
        "from oauth2client.client import GoogleCredentials\n",
        "from google.colab import drive\n",
        "from os import path"
      ],
      "execution_count": 1,
      "outputs": []
    },
    {
      "cell_type": "code",
      "metadata": {
        "id": "IMLlxGQA5zrq",
        "colab_type": "code",
        "colab": {}
      },
      "source": [
        "# Authenticate User\n",
        "auth.authenticate_user()\n",
        "gauth = GoogleAuth()\n",
        "gauth.credentials = GoogleCredentials.get_application_default()\n",
        "auth_drive = GoogleDrive(gauth)"
      ],
      "execution_count": 2,
      "outputs": []
    },
    {
      "cell_type": "code",
      "metadata": {
        "id": "GYiW9i94505j",
        "colab_type": "code",
        "colab": {
          "base_uri": "https://localhost:8080/",
          "height": 122
        },
        "outputId": "fd760fc7-577f-404a-d9c0-f9fd950d1e2a"
      },
      "source": [
        "DRIVE_PATH = '/content/drive'\n",
        "drive.mount(DRIVE_PATH)"
      ],
      "execution_count": 3,
      "outputs": [
        {
          "output_type": "stream",
          "text": [
            "Go to this URL in a browser: https://accounts.google.com/o/oauth2/auth?client_id=947318989803-6bn6qk8qdgf4n4g3pfee6491hc0brc4i.apps.googleusercontent.com&redirect_uri=urn%3aietf%3awg%3aoauth%3a2.0%3aoob&scope=email%20https%3a%2f%2fwww.googleapis.com%2fauth%2fdocs.test%20https%3a%2f%2fwww.googleapis.com%2fauth%2fdrive%20https%3a%2f%2fwww.googleapis.com%2fauth%2fdrive.photos.readonly%20https%3a%2f%2fwww.googleapis.com%2fauth%2fpeopleapi.readonly&response_type=code\n",
            "\n",
            "Enter your authorization code:\n",
            "··········\n",
            "Mounted at /content/drive\n"
          ],
          "name": "stdout"
        }
      ]
    },
    {
      "cell_type": "code",
      "metadata": {
        "id": "1anvBBkT53v3",
        "colab_type": "code",
        "colab": {}
      },
      "source": [
        "DATA_PATH = path.join(DRIVE_PATH, 'My Drive', 'LinkedIn_Articles', 'Datasets', 'Twitter_Real_or_Not')\n",
        "OUTPUT_PATH = path.join(DRIVE_PATH, 'My Drive', 'LinkedIn_Articles', 'NLP & EDA')"
      ],
      "execution_count": 4,
      "outputs": []
    },
    {
      "cell_type": "code",
      "metadata": {
        "id": "Cx0jv72a5-EZ",
        "colab_type": "code",
        "colab": {}
      },
      "source": [
        "import numpy as np\n",
        "import pandas as pd\n",
        "import csv\n",
        "import matplotlib.pyplot as plt\n",
        "from keras.preprocessing.text import Tokenizer\n",
        "from keras.preprocessing.sequence import pad_sequences\n",
        "from keras.layers.embeddings import Embedding\n",
        "from keras.models import Sequential\n",
        "from keras import layers\n",
        "from keras.optimizers import Adam\n",
        "from keras.losses import binary_crossentropy"
      ],
      "execution_count": 17,
      "outputs": []
    },
    {
      "cell_type": "code",
      "metadata": {
        "id": "ld5TmZhe6fAa",
        "colab_type": "code",
        "colab": {}
      },
      "source": [
        "df_train = pd.read_csv(path.join(DATA_PATH, 'train_cleaned.csv'), index_col='id')\n",
        "df_test = pd.read_csv(path.join(DATA_PATH, 'test_cleaned.csv'), index_col='id')"
      ],
      "execution_count": 7,
      "outputs": []
    },
    {
      "cell_type": "code",
      "metadata": {
        "id": "SYNnb0XI7ANe",
        "colab_type": "code",
        "colab": {}
      },
      "source": [
        "MAXLEN = 100\n",
        "VOCAB_SIZE = 50000\n",
        "VEC_DIMENSIONS = 300"
      ],
      "execution_count": 19,
      "outputs": []
    },
    {
      "cell_type": "code",
      "metadata": {
        "id": "tovoe-gM6o5F",
        "colab_type": "code",
        "colab": {}
      },
      "source": [
        "tokenizer = Tokenizer()\n",
        "tokenizer.fit_on_texts(df_train['text_cleaned'])\n",
        "\n",
        "train_sequences = tokenizer.texts_to_sequences(df_train['text_cleaned'])\n",
        "train_data = pad_sequences(train_sequences, maxlen=MAXLEN)"
      ],
      "execution_count": 9,
      "outputs": []
    },
    {
      "cell_type": "code",
      "metadata": {
        "id": "CfHYRHSW7ll_",
        "colab_type": "code",
        "colab": {}
      },
      "source": [
        "glove = pd.read_table(path.join(DATA_PATH, 'glove.840B.300d.txt'), sep=\" \", index_col=0, header=None, quoting=csv.QUOTE_NONE)"
      ],
      "execution_count": 18,
      "outputs": []
    },
    {
      "cell_type": "code",
      "metadata": {
        "id": "IbLSNKz68Ltu",
        "colab_type": "code",
        "colab": {}
      },
      "source": [
        "embedding_matrix = np.zeros((VOCAB_SIZE, VEC_DIMENSIONS))"
      ],
      "execution_count": 20,
      "outputs": []
    },
    {
      "cell_type": "code",
      "metadata": {
        "id": "ketau5EI842j",
        "colab_type": "code",
        "colab": {}
      },
      "source": [
        "for word, index in tokenizer.word_index.items():\n",
        "  if index > VOCAB_SIZE:\n",
        "    break\n",
        "  else:\n",
        "    if word in glove.index:\n",
        "      embedding_matrix[index] = np.asarray(glove.loc[word])"
      ],
      "execution_count": 22,
      "outputs": []
    },
    {
      "cell_type": "code",
      "metadata": {
        "id": "MNC9QaVV9qoR",
        "colab_type": "code",
        "colab": {
          "base_uri": "https://localhost:8080/",
          "height": 238
        },
        "outputId": "b458d30b-35b3-4149-faf4-234ca55de33c"
      },
      "source": [
        "embedding_matrix"
      ],
      "execution_count": 23,
      "outputs": [
        {
          "output_type": "execute_result",
          "data": {
            "text/plain": [
              "array([[ 0.      ,  0.      ,  0.      , ...,  0.      ,  0.      ,\n",
              "         0.      ],\n",
              "       [ 0.27204 , -0.06203 , -0.1884  , ...,  0.13015 , -0.18317 ,\n",
              "         0.1323  ],\n",
              "       [ 0.043798,  0.024779, -0.20937 , ..., -0.30099 , -0.14584 ,\n",
              "         0.28188 ],\n",
              "       ...,\n",
              "       [ 0.      ,  0.      ,  0.      , ...,  0.      ,  0.      ,\n",
              "         0.      ],\n",
              "       [ 0.      ,  0.      ,  0.      , ...,  0.      ,  0.      ,\n",
              "         0.      ],\n",
              "       [ 0.      ,  0.      ,  0.      , ...,  0.      ,  0.      ,\n",
              "         0.      ]])"
            ]
          },
          "metadata": {
            "tags": []
          },
          "execution_count": 23
        }
      ]
    },
    {
      "cell_type": "code",
      "metadata": {
        "id": "eTS_BX3A9ttL",
        "colab_type": "code",
        "colab": {
          "base_uri": "https://localhost:8080/",
          "height": 34
        },
        "outputId": "70c08d7a-6fa7-4321-b0ce-545d6eacc539"
      },
      "source": [
        "embedding_matrix.shape"
      ],
      "execution_count": 24,
      "outputs": [
        {
          "output_type": "execute_result",
          "data": {
            "text/plain": [
              "(50000, 300)"
            ]
          },
          "metadata": {
            "tags": []
          },
          "execution_count": 24
        }
      ]
    },
    {
      "cell_type": "code",
      "metadata": {
        "id": "AxU8UzkO9vRj",
        "colab_type": "code",
        "colab": {}
      },
      "source": [
        "nn = Sequential()\n",
        "nn.add(Embedding(VOCAB_SIZE, VEC_DIMENSIONS, input_length=MAXLEN, weights=[embedding_matrix], trainable=False))\n",
        "nn.add(layers.LSTM(300, return_sequences=True))\n",
        "nn.add(layers.LSTM(200, return_sequences=True))\n",
        "nn.add(layers.LSTM(100, return_sequences=True))\n",
        "nn.add(layers.LSTM(100))\n",
        "nn.add(layers.Dense(1, activation='sigmoid'))\n",
        "nn.compile(optimizer=Adam(lr=0.001), loss=binary_crossentropy, metrics=['accuracy'])"
      ],
      "execution_count": 50,
      "outputs": []
    },
    {
      "cell_type": "code",
      "metadata": {
        "id": "RxbhagpW-5J2",
        "colab_type": "code",
        "colab": {
          "base_uri": "https://localhost:8080/",
          "height": 357
        },
        "outputId": "96e9b6b9-0621-4919-e7e9-c6d9779cf962"
      },
      "source": [
        "nn.summary()"
      ],
      "execution_count": 51,
      "outputs": [
        {
          "output_type": "stream",
          "text": [
            "Model: \"sequential_2\"\n",
            "_________________________________________________________________\n",
            "Layer (type)                 Output Shape              Param #   \n",
            "=================================================================\n",
            "embedding_2 (Embedding)      (None, 100, 300)          15000000  \n",
            "_________________________________________________________________\n",
            "lstm_6 (LSTM)                (None, 100, 300)          721200    \n",
            "_________________________________________________________________\n",
            "lstm_7 (LSTM)                (None, 100, 200)          400800    \n",
            "_________________________________________________________________\n",
            "lstm_8 (LSTM)                (None, 100, 100)          120400    \n",
            "_________________________________________________________________\n",
            "lstm_9 (LSTM)                (None, 100)               80400     \n",
            "_________________________________________________________________\n",
            "dense_1 (Dense)              (None, 1)                 101       \n",
            "=================================================================\n",
            "Total params: 16,322,901\n",
            "Trainable params: 1,322,901\n",
            "Non-trainable params: 15,000,000\n",
            "_________________________________________________________________\n"
          ],
          "name": "stdout"
        }
      ]
    },
    {
      "cell_type": "code",
      "metadata": {
        "id": "GZXpNjJk-6RH",
        "colab_type": "code",
        "colab": {
          "base_uri": "https://localhost:8080/",
          "height": 51
        },
        "outputId": "11052018-ea9a-40b5-b569-66a861d3f29e"
      },
      "source": [
        "nn.fit(train_data, df_train['target'], validation_split=0.2, epochs = 30)"
      ],
      "execution_count": null,
      "outputs": [
        {
          "output_type": "stream",
          "text": [
            "Epoch 1/30\n",
            " 75/191 [==========>...................] - ETA: 2:05 - loss: 0.5211 - accuracy: 0.7642"
          ],
          "name": "stdout"
        }
      ]
    },
    {
      "cell_type": "code",
      "metadata": {
        "id": "thS_gfGJAPr7",
        "colab_type": "code",
        "colab": {}
      },
      "source": [
        "test_sequences = tokenizer.texts_to_sequences(df_test['text_cleaned'])\n",
        "test_data = pad_sequences(test_sequences, maxlen=MAXLEN)"
      ],
      "execution_count": 30,
      "outputs": []
    },
    {
      "cell_type": "code",
      "metadata": {
        "id": "GVSd9tAbAuy9",
        "colab_type": "code",
        "colab": {
          "base_uri": "https://localhost:8080/",
          "height": 88
        },
        "outputId": "8243ac18-efaf-4206-f0dd-d00bcfc3987a"
      },
      "source": [
        "test_target = nn.predict_classes(test_data)"
      ],
      "execution_count": 31,
      "outputs": [
        {
          "output_type": "stream",
          "text": [
            "WARNING:tensorflow:From <ipython-input-31-483da5e1b68d>:1: Sequential.predict_classes (from tensorflow.python.keras.engine.sequential) is deprecated and will be removed after 2021-01-01.\n",
            "Instructions for updating:\n",
            "Please use instead:* `np.argmax(model.predict(x), axis=-1)`,   if your model does multi-class classification   (e.g. if it uses a `softmax` last-layer activation).* `(model.predict(x) > 0.5).astype(\"int32\")`,   if your model does binary classification   (e.g. if it uses a `sigmoid` last-layer activation).\n"
          ],
          "name": "stdout"
        }
      ]
    },
    {
      "cell_type": "code",
      "metadata": {
        "id": "_qJNb5FoA32A",
        "colab_type": "code",
        "colab": {
          "base_uri": "https://localhost:8080/",
          "height": 34
        },
        "outputId": "302c0009-aac9-4546-f423-492fad28b4b5"
      },
      "source": [
        "test_target.flatten()"
      ],
      "execution_count": 44,
      "outputs": [
        {
          "output_type": "execute_result",
          "data": {
            "text/plain": [
              "array([1, 1, 1, ..., 1, 1, 1], dtype=int32)"
            ]
          },
          "metadata": {
            "tags": []
          },
          "execution_count": 44
        }
      ]
    },
    {
      "cell_type": "code",
      "metadata": {
        "id": "LHXEo9mFBUkl",
        "colab_type": "code",
        "colab": {
          "base_uri": "https://localhost:8080/",
          "height": 119
        },
        "outputId": "1726fb30-bbb6-4926-fa33-c44a2691d7eb"
      },
      "source": [
        "df_test.index"
      ],
      "execution_count": 33,
      "outputs": [
        {
          "output_type": "execute_result",
          "data": {
            "text/plain": [
              "Int64Index([    0,     2,     3,     9,    11,    12,    21,    22,    27,\n",
              "               29,\n",
              "            ...\n",
              "            10838, 10845, 10856, 10857, 10858, 10861, 10865, 10868, 10874,\n",
              "            10875],\n",
              "           dtype='int64', name='id', length=3263)"
            ]
          },
          "metadata": {
            "tags": []
          },
          "execution_count": 33
        }
      ]
    },
    {
      "cell_type": "code",
      "metadata": {
        "id": "T0-WxKSJBZ2m",
        "colab_type": "code",
        "colab": {}
      },
      "source": [
        "submission = pd.DataFrame({'id': df_test.index, 'target': test_target.flatten()})"
      ],
      "execution_count": 46,
      "outputs": []
    },
    {
      "cell_type": "code",
      "metadata": {
        "id": "H8vSJJm3Blgi",
        "colab_type": "code",
        "colab": {}
      },
      "source": [
        "submission.to_csv(path.join(DATA_PATH, 'submission.csv'), index=False)"
      ],
      "execution_count": 49,
      "outputs": []
    },
    {
      "cell_type": "code",
      "metadata": {
        "id": "1Mb67NtbCPD8",
        "colab_type": "code",
        "colab": {}
      },
      "source": [
        ""
      ],
      "execution_count": null,
      "outputs": []
    }
  ]
}