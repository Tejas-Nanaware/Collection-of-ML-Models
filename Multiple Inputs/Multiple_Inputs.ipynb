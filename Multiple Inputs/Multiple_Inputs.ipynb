{
  "nbformat": 4,
  "nbformat_minor": 0,
  "metadata": {
    "colab": {
      "name": "Multiple Inputs",
      "provenance": [],
      "collapsed_sections": []
    },
    "kernelspec": {
      "name": "python3",
      "display_name": "Python 3"
    }
  },
  "cells": [
    {
      "cell_type": "code",
      "metadata": {
        "id": "uqfEbzMMrp0o",
        "colab_type": "code",
        "colab": {}
      },
      "source": [
        "# Authentication for loading data from Google Drive\n",
        "# Import packages\n",
        "from pydrive.auth import GoogleAuth\n",
        "from pydrive.drive import GoogleDrive\n",
        "from google.colab import auth\n",
        "from oauth2client.client import GoogleCredentials\n",
        "from google.colab import drive\n",
        "from os import path"
      ],
      "execution_count": 2,
      "outputs": []
    },
    {
      "cell_type": "code",
      "metadata": {
        "id": "dfCI5H-_wfYV",
        "colab_type": "code",
        "colab": {}
      },
      "source": [
        "# Authenticate User\n",
        "auth.authenticate_user()\n",
        "gauth = GoogleAuth()\n",
        "gauth.credentials = GoogleCredentials.get_application_default()\n",
        "auth_drive = GoogleDrive(gauth)"
      ],
      "execution_count": 3,
      "outputs": []
    },
    {
      "cell_type": "code",
      "metadata": {
        "id": "kpBm9zYSxI-_",
        "colab_type": "code",
        "colab": {
          "base_uri": "https://localhost:8080/",
          "height": 122
        },
        "outputId": "bcc41e17-08f2-424a-f0ef-92dcc3074f92"
      },
      "source": [
        "DRIVE_PATH = '/content/drive'\n",
        "drive.mount(DRIVE_PATH)"
      ],
      "execution_count": 4,
      "outputs": [
        {
          "output_type": "stream",
          "text": [
            "Go to this URL in a browser: https://accounts.google.com/o/oauth2/auth?client_id=947318989803-6bn6qk8qdgf4n4g3pfee6491hc0brc4i.apps.googleusercontent.com&redirect_uri=urn%3aietf%3awg%3aoauth%3a2.0%3aoob&response_type=code&scope=email%20https%3a%2f%2fwww.googleapis.com%2fauth%2fdocs.test%20https%3a%2f%2fwww.googleapis.com%2fauth%2fdrive%20https%3a%2f%2fwww.googleapis.com%2fauth%2fdrive.photos.readonly%20https%3a%2f%2fwww.googleapis.com%2fauth%2fpeopleapi.readonly\n",
            "\n",
            "Enter your authorization code:\n",
            "··········\n",
            "Mounted at /content/drive\n"
          ],
          "name": "stdout"
        }
      ]
    },
    {
      "cell_type": "code",
      "metadata": {
        "id": "NDFOqQKdxRm7",
        "colab_type": "code",
        "colab": {}
      },
      "source": [
        "DATA_PATH = path.join(DRIVE_PATH, 'My Drive', 'LinkedIn_Articles', 'Datasets', 'ISIC_Skin_Cancer')\n",
        "OUTPUT_PATH = path.join(DRIVE_PATH, 'My Drive', 'LinkedIn_Articles', 'Multiple Inputs')"
      ],
      "execution_count": 5,
      "outputs": []
    },
    {
      "cell_type": "code",
      "metadata": {
        "id": "ziiqODsnzImJ",
        "colab_type": "code",
        "colab": {}
      },
      "source": [
        "# Import necessary packages\n",
        "import numpy as np\n",
        "import pandas as pd\n",
        "import glob # I use glob instead of ls due to double quote vs ls command on Colab\n",
        "from sklearn.model_selection import train_test_split\n",
        "from sklearn.preprocessing import OneHotEncoder\n",
        "import matplotlib.pyplot as plt\n",
        "from skimage.transform import resize\n",
        "from skimage.io import imread\n",
        "\n",
        "# Import Keras for Neural Networks\n",
        "from keras import Model\n",
        "from keras import Input\n",
        "from keras import layers\n",
        "from keras import losses\n",
        "from keras.optimizers import Adam\n",
        "from keras.utils import plot_model\n",
        "from keras.models import load_model"
      ],
      "execution_count": 6,
      "outputs": []
    },
    {
      "cell_type": "code",
      "metadata": {
        "id": "as1q7D-2zlLf",
        "colab_type": "code",
        "colab": {}
      },
      "source": [
        "df_train_truth = pd.read_csv(path.join(DATA_PATH, 'ISIC_2019_Training_GroundTruth.csv'))\n",
        "df_train_meta = pd.read_csv(path.join(DATA_PATH, 'ISIC_2019_Training_Metadata.csv'))"
      ],
      "execution_count": 7,
      "outputs": []
    },
    {
      "cell_type": "code",
      "metadata": {
        "id": "6zYCDWlm3-hk",
        "colab_type": "code",
        "colab": {
          "base_uri": "https://localhost:8080/",
          "height": 306
        },
        "outputId": "4736a591-038a-465f-fa75-d819043a73a5"
      },
      "source": [
        "df_train_truth.info()"
      ],
      "execution_count": 8,
      "outputs": [
        {
          "output_type": "stream",
          "text": [
            "<class 'pandas.core.frame.DataFrame'>\n",
            "RangeIndex: 25331 entries, 0 to 25330\n",
            "Data columns (total 10 columns):\n",
            " #   Column  Non-Null Count  Dtype  \n",
            "---  ------  --------------  -----  \n",
            " 0   image   25331 non-null  object \n",
            " 1   MEL     25331 non-null  float64\n",
            " 2   NV      25331 non-null  float64\n",
            " 3   BCC     25331 non-null  float64\n",
            " 4   AK      25331 non-null  float64\n",
            " 5   BKL     25331 non-null  float64\n",
            " 6   DF      25331 non-null  float64\n",
            " 7   VASC    25331 non-null  float64\n",
            " 8   SCC     25331 non-null  float64\n",
            " 9   UNK     25331 non-null  float64\n",
            "dtypes: float64(9), object(1)\n",
            "memory usage: 1.9+ MB\n"
          ],
          "name": "stdout"
        }
      ]
    },
    {
      "cell_type": "code",
      "metadata": {
        "id": "BZm1-z-W5hMb",
        "colab_type": "code",
        "colab": {
          "base_uri": "https://localhost:8080/",
          "height": 221
        },
        "outputId": "9cd77a78-28fa-4c30-c404-c3bb425d3597"
      },
      "source": [
        "df_train_meta.info()"
      ],
      "execution_count": 9,
      "outputs": [
        {
          "output_type": "stream",
          "text": [
            "<class 'pandas.core.frame.DataFrame'>\n",
            "RangeIndex: 25331 entries, 0 to 25330\n",
            "Data columns (total 5 columns):\n",
            " #   Column               Non-Null Count  Dtype  \n",
            "---  ------               --------------  -----  \n",
            " 0   image                25331 non-null  object \n",
            " 1   age_approx           24894 non-null  float64\n",
            " 2   anatom_site_general  22700 non-null  object \n",
            " 3   lesion_id            23247 non-null  object \n",
            " 4   sex                  24947 non-null  object \n",
            "dtypes: float64(1), object(4)\n",
            "memory usage: 989.6+ KB\n"
          ],
          "name": "stdout"
        }
      ]
    },
    {
      "cell_type": "code",
      "metadata": {
        "id": "qBGeyVat5wCL",
        "colab_type": "code",
        "colab": {}
      },
      "source": [
        "df_train = pd.concat([df_train_meta, df_train_truth], axis=1)"
      ],
      "execution_count": 10,
      "outputs": []
    },
    {
      "cell_type": "code",
      "metadata": {
        "id": "V14CwhZd6TmT",
        "colab_type": "code",
        "colab": {}
      },
      "source": [
        "df_train = df_train.iloc[:,~df_train.columns.duplicated()]"
      ],
      "execution_count": 11,
      "outputs": []
    },
    {
      "cell_type": "code",
      "metadata": {
        "id": "Dt0F-4jA8Dq4",
        "colab_type": "code",
        "colab": {
          "base_uri": "https://localhost:8080/",
          "height": 419
        },
        "outputId": "cad0f4bc-f168-4081-bbc6-c470b696d7f3"
      },
      "source": [
        "df_train"
      ],
      "execution_count": 12,
      "outputs": [
        {
          "output_type": "execute_result",
          "data": {
            "text/html": [
              "<div>\n",
              "<style scoped>\n",
              "    .dataframe tbody tr th:only-of-type {\n",
              "        vertical-align: middle;\n",
              "    }\n",
              "\n",
              "    .dataframe tbody tr th {\n",
              "        vertical-align: top;\n",
              "    }\n",
              "\n",
              "    .dataframe thead th {\n",
              "        text-align: right;\n",
              "    }\n",
              "</style>\n",
              "<table border=\"1\" class=\"dataframe\">\n",
              "  <thead>\n",
              "    <tr style=\"text-align: right;\">\n",
              "      <th></th>\n",
              "      <th>image</th>\n",
              "      <th>age_approx</th>\n",
              "      <th>anatom_site_general</th>\n",
              "      <th>lesion_id</th>\n",
              "      <th>sex</th>\n",
              "      <th>MEL</th>\n",
              "      <th>NV</th>\n",
              "      <th>BCC</th>\n",
              "      <th>AK</th>\n",
              "      <th>BKL</th>\n",
              "      <th>DF</th>\n",
              "      <th>VASC</th>\n",
              "      <th>SCC</th>\n",
              "      <th>UNK</th>\n",
              "    </tr>\n",
              "  </thead>\n",
              "  <tbody>\n",
              "    <tr>\n",
              "      <th>0</th>\n",
              "      <td>ISIC_0000000</td>\n",
              "      <td>55.0</td>\n",
              "      <td>anterior torso</td>\n",
              "      <td>NaN</td>\n",
              "      <td>female</td>\n",
              "      <td>0.0</td>\n",
              "      <td>1.0</td>\n",
              "      <td>0.0</td>\n",
              "      <td>0.0</td>\n",
              "      <td>0.0</td>\n",
              "      <td>0.0</td>\n",
              "      <td>0.0</td>\n",
              "      <td>0.0</td>\n",
              "      <td>0.0</td>\n",
              "    </tr>\n",
              "    <tr>\n",
              "      <th>1</th>\n",
              "      <td>ISIC_0000001</td>\n",
              "      <td>30.0</td>\n",
              "      <td>anterior torso</td>\n",
              "      <td>NaN</td>\n",
              "      <td>female</td>\n",
              "      <td>0.0</td>\n",
              "      <td>1.0</td>\n",
              "      <td>0.0</td>\n",
              "      <td>0.0</td>\n",
              "      <td>0.0</td>\n",
              "      <td>0.0</td>\n",
              "      <td>0.0</td>\n",
              "      <td>0.0</td>\n",
              "      <td>0.0</td>\n",
              "    </tr>\n",
              "    <tr>\n",
              "      <th>2</th>\n",
              "      <td>ISIC_0000002</td>\n",
              "      <td>60.0</td>\n",
              "      <td>upper extremity</td>\n",
              "      <td>NaN</td>\n",
              "      <td>female</td>\n",
              "      <td>1.0</td>\n",
              "      <td>0.0</td>\n",
              "      <td>0.0</td>\n",
              "      <td>0.0</td>\n",
              "      <td>0.0</td>\n",
              "      <td>0.0</td>\n",
              "      <td>0.0</td>\n",
              "      <td>0.0</td>\n",
              "      <td>0.0</td>\n",
              "    </tr>\n",
              "    <tr>\n",
              "      <th>3</th>\n",
              "      <td>ISIC_0000003</td>\n",
              "      <td>30.0</td>\n",
              "      <td>upper extremity</td>\n",
              "      <td>NaN</td>\n",
              "      <td>male</td>\n",
              "      <td>0.0</td>\n",
              "      <td>1.0</td>\n",
              "      <td>0.0</td>\n",
              "      <td>0.0</td>\n",
              "      <td>0.0</td>\n",
              "      <td>0.0</td>\n",
              "      <td>0.0</td>\n",
              "      <td>0.0</td>\n",
              "      <td>0.0</td>\n",
              "    </tr>\n",
              "    <tr>\n",
              "      <th>4</th>\n",
              "      <td>ISIC_0000004</td>\n",
              "      <td>80.0</td>\n",
              "      <td>posterior torso</td>\n",
              "      <td>NaN</td>\n",
              "      <td>male</td>\n",
              "      <td>1.0</td>\n",
              "      <td>0.0</td>\n",
              "      <td>0.0</td>\n",
              "      <td>0.0</td>\n",
              "      <td>0.0</td>\n",
              "      <td>0.0</td>\n",
              "      <td>0.0</td>\n",
              "      <td>0.0</td>\n",
              "      <td>0.0</td>\n",
              "    </tr>\n",
              "    <tr>\n",
              "      <th>...</th>\n",
              "      <td>...</td>\n",
              "      <td>...</td>\n",
              "      <td>...</td>\n",
              "      <td>...</td>\n",
              "      <td>...</td>\n",
              "      <td>...</td>\n",
              "      <td>...</td>\n",
              "      <td>...</td>\n",
              "      <td>...</td>\n",
              "      <td>...</td>\n",
              "      <td>...</td>\n",
              "      <td>...</td>\n",
              "      <td>...</td>\n",
              "      <td>...</td>\n",
              "    </tr>\n",
              "    <tr>\n",
              "      <th>25326</th>\n",
              "      <td>ISIC_0073247</td>\n",
              "      <td>85.0</td>\n",
              "      <td>head/neck</td>\n",
              "      <td>BCN_0003925</td>\n",
              "      <td>female</td>\n",
              "      <td>0.0</td>\n",
              "      <td>0.0</td>\n",
              "      <td>1.0</td>\n",
              "      <td>0.0</td>\n",
              "      <td>0.0</td>\n",
              "      <td>0.0</td>\n",
              "      <td>0.0</td>\n",
              "      <td>0.0</td>\n",
              "      <td>0.0</td>\n",
              "    </tr>\n",
              "    <tr>\n",
              "      <th>25327</th>\n",
              "      <td>ISIC_0073248</td>\n",
              "      <td>65.0</td>\n",
              "      <td>anterior torso</td>\n",
              "      <td>BCN_0001819</td>\n",
              "      <td>male</td>\n",
              "      <td>0.0</td>\n",
              "      <td>0.0</td>\n",
              "      <td>0.0</td>\n",
              "      <td>0.0</td>\n",
              "      <td>1.0</td>\n",
              "      <td>0.0</td>\n",
              "      <td>0.0</td>\n",
              "      <td>0.0</td>\n",
              "      <td>0.0</td>\n",
              "    </tr>\n",
              "    <tr>\n",
              "      <th>25328</th>\n",
              "      <td>ISIC_0073249</td>\n",
              "      <td>70.0</td>\n",
              "      <td>lower extremity</td>\n",
              "      <td>BCN_0001085</td>\n",
              "      <td>male</td>\n",
              "      <td>1.0</td>\n",
              "      <td>0.0</td>\n",
              "      <td>0.0</td>\n",
              "      <td>0.0</td>\n",
              "      <td>0.0</td>\n",
              "      <td>0.0</td>\n",
              "      <td>0.0</td>\n",
              "      <td>0.0</td>\n",
              "      <td>0.0</td>\n",
              "    </tr>\n",
              "    <tr>\n",
              "      <th>25329</th>\n",
              "      <td>ISIC_0073251</td>\n",
              "      <td>55.0</td>\n",
              "      <td>palms/soles</td>\n",
              "      <td>BCN_0002083</td>\n",
              "      <td>female</td>\n",
              "      <td>0.0</td>\n",
              "      <td>1.0</td>\n",
              "      <td>0.0</td>\n",
              "      <td>0.0</td>\n",
              "      <td>0.0</td>\n",
              "      <td>0.0</td>\n",
              "      <td>0.0</td>\n",
              "      <td>0.0</td>\n",
              "      <td>0.0</td>\n",
              "    </tr>\n",
              "    <tr>\n",
              "      <th>25330</th>\n",
              "      <td>ISIC_0073254</td>\n",
              "      <td>50.0</td>\n",
              "      <td>upper extremity</td>\n",
              "      <td>BCN_0001079</td>\n",
              "      <td>male</td>\n",
              "      <td>0.0</td>\n",
              "      <td>0.0</td>\n",
              "      <td>0.0</td>\n",
              "      <td>0.0</td>\n",
              "      <td>1.0</td>\n",
              "      <td>0.0</td>\n",
              "      <td>0.0</td>\n",
              "      <td>0.0</td>\n",
              "      <td>0.0</td>\n",
              "    </tr>\n",
              "  </tbody>\n",
              "</table>\n",
              "<p>25331 rows × 14 columns</p>\n",
              "</div>"
            ],
            "text/plain": [
              "              image  age_approx anatom_site_general  ... VASC  SCC  UNK\n",
              "0      ISIC_0000000        55.0      anterior torso  ...  0.0  0.0  0.0\n",
              "1      ISIC_0000001        30.0      anterior torso  ...  0.0  0.0  0.0\n",
              "2      ISIC_0000002        60.0     upper extremity  ...  0.0  0.0  0.0\n",
              "3      ISIC_0000003        30.0     upper extremity  ...  0.0  0.0  0.0\n",
              "4      ISIC_0000004        80.0     posterior torso  ...  0.0  0.0  0.0\n",
              "...             ...         ...                 ...  ...  ...  ...  ...\n",
              "25326  ISIC_0073247        85.0           head/neck  ...  0.0  0.0  0.0\n",
              "25327  ISIC_0073248        65.0      anterior torso  ...  0.0  0.0  0.0\n",
              "25328  ISIC_0073249        70.0     lower extremity  ...  0.0  0.0  0.0\n",
              "25329  ISIC_0073251        55.0         palms/soles  ...  0.0  0.0  0.0\n",
              "25330  ISIC_0073254        50.0     upper extremity  ...  0.0  0.0  0.0\n",
              "\n",
              "[25331 rows x 14 columns]"
            ]
          },
          "metadata": {
            "tags": []
          },
          "execution_count": 12
        }
      ]
    },
    {
      "cell_type": "code",
      "metadata": {
        "id": "1G8IJMz06xu1",
        "colab_type": "code",
        "colab": {
          "base_uri": "https://localhost:8080/",
          "height": 238
        },
        "outputId": "43258cf9-a329-4090-cedf-fe07631c0740"
      },
      "source": [
        "# Check na for useful columns\n",
        "print(df_train.image.isna().unique())\n",
        "print(df_train.age_approx.isna().unique())\n",
        "print(df_train.anatom_site_general.isna().unique())\n",
        "print(df_train.sex.isna().unique())\n",
        "\n",
        "print(df_train.MEL.isna().unique())\n",
        "print(df_train.NV.isna().unique())\n",
        "print(df_train.BCC.isna().unique())\n",
        "print(df_train.AK.isna().unique())\n",
        "\n",
        "print(df_train.BKL.isna().unique())\n",
        "print(df_train.DF.isna().unique())\n",
        "print(df_train.VASC.isna().unique())\n",
        "print(df_train.SCC.isna().unique())\n",
        "print(df_train.UNK.isna().unique())"
      ],
      "execution_count": 13,
      "outputs": [
        {
          "output_type": "stream",
          "text": [
            "[False]\n",
            "[False  True]\n",
            "[False  True]\n",
            "[False  True]\n",
            "[False]\n",
            "[False]\n",
            "[False]\n",
            "[False]\n",
            "[False]\n",
            "[False]\n",
            "[False]\n",
            "[False]\n",
            "[False]\n"
          ],
          "name": "stdout"
        }
      ]
    },
    {
      "cell_type": "code",
      "metadata": {
        "id": "YNi86tmb9ses",
        "colab_type": "code",
        "colab": {}
      },
      "source": [
        "age_mean = df_train.age_approx.mean()\n",
        "replacement_values = {'age_approx': age_mean, 'anatom_site_general': 'Unknown', 'sex': 'Unknown'}"
      ],
      "execution_count": 14,
      "outputs": []
    },
    {
      "cell_type": "code",
      "metadata": {
        "id": "y07Rlase_DKY",
        "colab_type": "code",
        "colab": {}
      },
      "source": [
        "df_train = df_train.fillna(value=replacement_values)"
      ],
      "execution_count": 15,
      "outputs": []
    },
    {
      "cell_type": "code",
      "metadata": {
        "id": "4p0bSdOB_EmS",
        "colab_type": "code",
        "colab": {
          "base_uri": "https://localhost:8080/",
          "height": 456
        },
        "outputId": "7397c77e-9c4c-42ae-c25b-2cc0e71eacd8"
      },
      "source": [
        "df_required = df_train[['image', 'age_approx','anatom_site_general','sex','MEL','NV','BCC','AK','BKL','DF','VASC','SCC','UNK']]\n",
        "df_required = pd.get_dummies(df_required, prefix=['anatom_site_general', 'sex'], columns=['anatom_site_general', 'sex'])\n",
        "df_required['MEL'] = pd.to_numeric(df_required['MEL'], downcast='unsigned')\n",
        "df_required['NV'] = pd.to_numeric(df_required['NV'], downcast='unsigned')\n",
        "df_required['BCC'] = pd.to_numeric(df_required['BCC'], downcast='unsigned')\n",
        "df_required['AK'] = pd.to_numeric(df_required['AK'], downcast='unsigned')\n",
        "df_required['BKL'] = pd.to_numeric(df_required['BKL'], downcast='unsigned')\n",
        "df_required['DF'] = pd.to_numeric(df_required['DF'], downcast='unsigned')\n",
        "df_required['VASC'] = pd.to_numeric(df_required['VASC'], downcast='unsigned')\n",
        "df_required['SCC'] = pd.to_numeric(df_required['SCC'], downcast='unsigned')\n",
        "df_required['UNK'] = pd.to_numeric(df_required['UNK'], downcast='unsigned')\n",
        "df_required"
      ],
      "execution_count": 16,
      "outputs": [
        {
          "output_type": "execute_result",
          "data": {
            "text/html": [
              "<div>\n",
              "<style scoped>\n",
              "    .dataframe tbody tr th:only-of-type {\n",
              "        vertical-align: middle;\n",
              "    }\n",
              "\n",
              "    .dataframe tbody tr th {\n",
              "        vertical-align: top;\n",
              "    }\n",
              "\n",
              "    .dataframe thead th {\n",
              "        text-align: right;\n",
              "    }\n",
              "</style>\n",
              "<table border=\"1\" class=\"dataframe\">\n",
              "  <thead>\n",
              "    <tr style=\"text-align: right;\">\n",
              "      <th></th>\n",
              "      <th>image</th>\n",
              "      <th>age_approx</th>\n",
              "      <th>MEL</th>\n",
              "      <th>NV</th>\n",
              "      <th>BCC</th>\n",
              "      <th>AK</th>\n",
              "      <th>BKL</th>\n",
              "      <th>DF</th>\n",
              "      <th>VASC</th>\n",
              "      <th>SCC</th>\n",
              "      <th>UNK</th>\n",
              "      <th>anatom_site_general_Unknown</th>\n",
              "      <th>anatom_site_general_anterior torso</th>\n",
              "      <th>anatom_site_general_head/neck</th>\n",
              "      <th>anatom_site_general_lateral torso</th>\n",
              "      <th>anatom_site_general_lower extremity</th>\n",
              "      <th>anatom_site_general_oral/genital</th>\n",
              "      <th>anatom_site_general_palms/soles</th>\n",
              "      <th>anatom_site_general_posterior torso</th>\n",
              "      <th>anatom_site_general_upper extremity</th>\n",
              "      <th>sex_Unknown</th>\n",
              "      <th>sex_female</th>\n",
              "      <th>sex_male</th>\n",
              "    </tr>\n",
              "  </thead>\n",
              "  <tbody>\n",
              "    <tr>\n",
              "      <th>0</th>\n",
              "      <td>ISIC_0000000</td>\n",
              "      <td>55.0</td>\n",
              "      <td>0</td>\n",
              "      <td>1</td>\n",
              "      <td>0</td>\n",
              "      <td>0</td>\n",
              "      <td>0</td>\n",
              "      <td>0</td>\n",
              "      <td>0</td>\n",
              "      <td>0</td>\n",
              "      <td>0</td>\n",
              "      <td>0</td>\n",
              "      <td>1</td>\n",
              "      <td>0</td>\n",
              "      <td>0</td>\n",
              "      <td>0</td>\n",
              "      <td>0</td>\n",
              "      <td>0</td>\n",
              "      <td>0</td>\n",
              "      <td>0</td>\n",
              "      <td>0</td>\n",
              "      <td>1</td>\n",
              "      <td>0</td>\n",
              "    </tr>\n",
              "    <tr>\n",
              "      <th>1</th>\n",
              "      <td>ISIC_0000001</td>\n",
              "      <td>30.0</td>\n",
              "      <td>0</td>\n",
              "      <td>1</td>\n",
              "      <td>0</td>\n",
              "      <td>0</td>\n",
              "      <td>0</td>\n",
              "      <td>0</td>\n",
              "      <td>0</td>\n",
              "      <td>0</td>\n",
              "      <td>0</td>\n",
              "      <td>0</td>\n",
              "      <td>1</td>\n",
              "      <td>0</td>\n",
              "      <td>0</td>\n",
              "      <td>0</td>\n",
              "      <td>0</td>\n",
              "      <td>0</td>\n",
              "      <td>0</td>\n",
              "      <td>0</td>\n",
              "      <td>0</td>\n",
              "      <td>1</td>\n",
              "      <td>0</td>\n",
              "    </tr>\n",
              "    <tr>\n",
              "      <th>2</th>\n",
              "      <td>ISIC_0000002</td>\n",
              "      <td>60.0</td>\n",
              "      <td>1</td>\n",
              "      <td>0</td>\n",
              "      <td>0</td>\n",
              "      <td>0</td>\n",
              "      <td>0</td>\n",
              "      <td>0</td>\n",
              "      <td>0</td>\n",
              "      <td>0</td>\n",
              "      <td>0</td>\n",
              "      <td>0</td>\n",
              "      <td>0</td>\n",
              "      <td>0</td>\n",
              "      <td>0</td>\n",
              "      <td>0</td>\n",
              "      <td>0</td>\n",
              "      <td>0</td>\n",
              "      <td>0</td>\n",
              "      <td>1</td>\n",
              "      <td>0</td>\n",
              "      <td>1</td>\n",
              "      <td>0</td>\n",
              "    </tr>\n",
              "    <tr>\n",
              "      <th>3</th>\n",
              "      <td>ISIC_0000003</td>\n",
              "      <td>30.0</td>\n",
              "      <td>0</td>\n",
              "      <td>1</td>\n",
              "      <td>0</td>\n",
              "      <td>0</td>\n",
              "      <td>0</td>\n",
              "      <td>0</td>\n",
              "      <td>0</td>\n",
              "      <td>0</td>\n",
              "      <td>0</td>\n",
              "      <td>0</td>\n",
              "      <td>0</td>\n",
              "      <td>0</td>\n",
              "      <td>0</td>\n",
              "      <td>0</td>\n",
              "      <td>0</td>\n",
              "      <td>0</td>\n",
              "      <td>0</td>\n",
              "      <td>1</td>\n",
              "      <td>0</td>\n",
              "      <td>0</td>\n",
              "      <td>1</td>\n",
              "    </tr>\n",
              "    <tr>\n",
              "      <th>4</th>\n",
              "      <td>ISIC_0000004</td>\n",
              "      <td>80.0</td>\n",
              "      <td>1</td>\n",
              "      <td>0</td>\n",
              "      <td>0</td>\n",
              "      <td>0</td>\n",
              "      <td>0</td>\n",
              "      <td>0</td>\n",
              "      <td>0</td>\n",
              "      <td>0</td>\n",
              "      <td>0</td>\n",
              "      <td>0</td>\n",
              "      <td>0</td>\n",
              "      <td>0</td>\n",
              "      <td>0</td>\n",
              "      <td>0</td>\n",
              "      <td>0</td>\n",
              "      <td>0</td>\n",
              "      <td>1</td>\n",
              "      <td>0</td>\n",
              "      <td>0</td>\n",
              "      <td>0</td>\n",
              "      <td>1</td>\n",
              "    </tr>\n",
              "    <tr>\n",
              "      <th>...</th>\n",
              "      <td>...</td>\n",
              "      <td>...</td>\n",
              "      <td>...</td>\n",
              "      <td>...</td>\n",
              "      <td>...</td>\n",
              "      <td>...</td>\n",
              "      <td>...</td>\n",
              "      <td>...</td>\n",
              "      <td>...</td>\n",
              "      <td>...</td>\n",
              "      <td>...</td>\n",
              "      <td>...</td>\n",
              "      <td>...</td>\n",
              "      <td>...</td>\n",
              "      <td>...</td>\n",
              "      <td>...</td>\n",
              "      <td>...</td>\n",
              "      <td>...</td>\n",
              "      <td>...</td>\n",
              "      <td>...</td>\n",
              "      <td>...</td>\n",
              "      <td>...</td>\n",
              "      <td>...</td>\n",
              "    </tr>\n",
              "    <tr>\n",
              "      <th>25326</th>\n",
              "      <td>ISIC_0073247</td>\n",
              "      <td>85.0</td>\n",
              "      <td>0</td>\n",
              "      <td>0</td>\n",
              "      <td>1</td>\n",
              "      <td>0</td>\n",
              "      <td>0</td>\n",
              "      <td>0</td>\n",
              "      <td>0</td>\n",
              "      <td>0</td>\n",
              "      <td>0</td>\n",
              "      <td>0</td>\n",
              "      <td>0</td>\n",
              "      <td>1</td>\n",
              "      <td>0</td>\n",
              "      <td>0</td>\n",
              "      <td>0</td>\n",
              "      <td>0</td>\n",
              "      <td>0</td>\n",
              "      <td>0</td>\n",
              "      <td>0</td>\n",
              "      <td>1</td>\n",
              "      <td>0</td>\n",
              "    </tr>\n",
              "    <tr>\n",
              "      <th>25327</th>\n",
              "      <td>ISIC_0073248</td>\n",
              "      <td>65.0</td>\n",
              "      <td>0</td>\n",
              "      <td>0</td>\n",
              "      <td>0</td>\n",
              "      <td>0</td>\n",
              "      <td>1</td>\n",
              "      <td>0</td>\n",
              "      <td>0</td>\n",
              "      <td>0</td>\n",
              "      <td>0</td>\n",
              "      <td>0</td>\n",
              "      <td>1</td>\n",
              "      <td>0</td>\n",
              "      <td>0</td>\n",
              "      <td>0</td>\n",
              "      <td>0</td>\n",
              "      <td>0</td>\n",
              "      <td>0</td>\n",
              "      <td>0</td>\n",
              "      <td>0</td>\n",
              "      <td>0</td>\n",
              "      <td>1</td>\n",
              "    </tr>\n",
              "    <tr>\n",
              "      <th>25328</th>\n",
              "      <td>ISIC_0073249</td>\n",
              "      <td>70.0</td>\n",
              "      <td>1</td>\n",
              "      <td>0</td>\n",
              "      <td>0</td>\n",
              "      <td>0</td>\n",
              "      <td>0</td>\n",
              "      <td>0</td>\n",
              "      <td>0</td>\n",
              "      <td>0</td>\n",
              "      <td>0</td>\n",
              "      <td>0</td>\n",
              "      <td>0</td>\n",
              "      <td>0</td>\n",
              "      <td>0</td>\n",
              "      <td>1</td>\n",
              "      <td>0</td>\n",
              "      <td>0</td>\n",
              "      <td>0</td>\n",
              "      <td>0</td>\n",
              "      <td>0</td>\n",
              "      <td>0</td>\n",
              "      <td>1</td>\n",
              "    </tr>\n",
              "    <tr>\n",
              "      <th>25329</th>\n",
              "      <td>ISIC_0073251</td>\n",
              "      <td>55.0</td>\n",
              "      <td>0</td>\n",
              "      <td>1</td>\n",
              "      <td>0</td>\n",
              "      <td>0</td>\n",
              "      <td>0</td>\n",
              "      <td>0</td>\n",
              "      <td>0</td>\n",
              "      <td>0</td>\n",
              "      <td>0</td>\n",
              "      <td>0</td>\n",
              "      <td>0</td>\n",
              "      <td>0</td>\n",
              "      <td>0</td>\n",
              "      <td>0</td>\n",
              "      <td>0</td>\n",
              "      <td>1</td>\n",
              "      <td>0</td>\n",
              "      <td>0</td>\n",
              "      <td>0</td>\n",
              "      <td>1</td>\n",
              "      <td>0</td>\n",
              "    </tr>\n",
              "    <tr>\n",
              "      <th>25330</th>\n",
              "      <td>ISIC_0073254</td>\n",
              "      <td>50.0</td>\n",
              "      <td>0</td>\n",
              "      <td>0</td>\n",
              "      <td>0</td>\n",
              "      <td>0</td>\n",
              "      <td>1</td>\n",
              "      <td>0</td>\n",
              "      <td>0</td>\n",
              "      <td>0</td>\n",
              "      <td>0</td>\n",
              "      <td>0</td>\n",
              "      <td>0</td>\n",
              "      <td>0</td>\n",
              "      <td>0</td>\n",
              "      <td>0</td>\n",
              "      <td>0</td>\n",
              "      <td>0</td>\n",
              "      <td>0</td>\n",
              "      <td>1</td>\n",
              "      <td>0</td>\n",
              "      <td>0</td>\n",
              "      <td>1</td>\n",
              "    </tr>\n",
              "  </tbody>\n",
              "</table>\n",
              "<p>25331 rows × 23 columns</p>\n",
              "</div>"
            ],
            "text/plain": [
              "              image  age_approx  MEL  ...  sex_Unknown  sex_female  sex_male\n",
              "0      ISIC_0000000        55.0    0  ...            0           1         0\n",
              "1      ISIC_0000001        30.0    0  ...            0           1         0\n",
              "2      ISIC_0000002        60.0    1  ...            0           1         0\n",
              "3      ISIC_0000003        30.0    0  ...            0           0         1\n",
              "4      ISIC_0000004        80.0    1  ...            0           0         1\n",
              "...             ...         ...  ...  ...          ...         ...       ...\n",
              "25326  ISIC_0073247        85.0    0  ...            0           1         0\n",
              "25327  ISIC_0073248        65.0    0  ...            0           0         1\n",
              "25328  ISIC_0073249        70.0    1  ...            0           0         1\n",
              "25329  ISIC_0073251        55.0    0  ...            0           1         0\n",
              "25330  ISIC_0073254        50.0    0  ...            0           0         1\n",
              "\n",
              "[25331 rows x 23 columns]"
            ]
          },
          "metadata": {
            "tags": []
          },
          "execution_count": 16
        }
      ]
    },
    {
      "cell_type": "code",
      "metadata": {
        "id": "NE5eXDOL_bEP",
        "colab_type": "code",
        "colab": {
          "base_uri": "https://localhost:8080/",
          "height": 527
        },
        "outputId": "6b6590d5-5245-4f1a-ba4e-bc738ba2e105"
      },
      "source": [
        "df_required.info()"
      ],
      "execution_count": 17,
      "outputs": [
        {
          "output_type": "stream",
          "text": [
            "<class 'pandas.core.frame.DataFrame'>\n",
            "RangeIndex: 25331 entries, 0 to 25330\n",
            "Data columns (total 23 columns):\n",
            " #   Column                               Non-Null Count  Dtype  \n",
            "---  ------                               --------------  -----  \n",
            " 0   image                                25331 non-null  object \n",
            " 1   age_approx                           25331 non-null  float64\n",
            " 2   MEL                                  25331 non-null  uint8  \n",
            " 3   NV                                   25331 non-null  uint8  \n",
            " 4   BCC                                  25331 non-null  uint8  \n",
            " 5   AK                                   25331 non-null  uint8  \n",
            " 6   BKL                                  25331 non-null  uint8  \n",
            " 7   DF                                   25331 non-null  uint8  \n",
            " 8   VASC                                 25331 non-null  uint8  \n",
            " 9   SCC                                  25331 non-null  uint8  \n",
            " 10  UNK                                  25331 non-null  uint8  \n",
            " 11  anatom_site_general_Unknown          25331 non-null  uint8  \n",
            " 12  anatom_site_general_anterior torso   25331 non-null  uint8  \n",
            " 13  anatom_site_general_head/neck        25331 non-null  uint8  \n",
            " 14  anatom_site_general_lateral torso    25331 non-null  uint8  \n",
            " 15  anatom_site_general_lower extremity  25331 non-null  uint8  \n",
            " 16  anatom_site_general_oral/genital     25331 non-null  uint8  \n",
            " 17  anatom_site_general_palms/soles      25331 non-null  uint8  \n",
            " 18  anatom_site_general_posterior torso  25331 non-null  uint8  \n",
            " 19  anatom_site_general_upper extremity  25331 non-null  uint8  \n",
            " 20  sex_Unknown                          25331 non-null  uint8  \n",
            " 21  sex_female                           25331 non-null  uint8  \n",
            " 22  sex_male                             25331 non-null  uint8  \n",
            "dtypes: float64(1), object(1), uint8(21)\n",
            "memory usage: 915.4+ KB\n"
          ],
          "name": "stdout"
        }
      ]
    },
    {
      "cell_type": "code",
      "metadata": {
        "id": "H-RXQClMvnqV",
        "colab_type": "code",
        "colab": {}
      },
      "source": [
        "X_train, X_test, y_train, y_test = train_test_split(df_required.drop('MEL', axis=1), \n",
        "                                                    df_required[['MEL']], test_size=0.2, random_state=20200803)"
      ],
      "execution_count": 18,
      "outputs": []
    },
    {
      "cell_type": "code",
      "metadata": {
        "id": "GpYiQitcJHFu",
        "colab_type": "code",
        "colab": {}
      },
      "source": [
        "IMAGE_SHAPE = (128, 128, 3)\n",
        "BATCH_SIZE = 128"
      ],
      "execution_count": 19,
      "outputs": []
    },
    {
      "cell_type": "code",
      "metadata": {
        "id": "A2xGaPJYJF3I",
        "colab_type": "code",
        "colab": {}
      },
      "source": [
        "def get_image_batch(source, current_index, batch_size=BATCH_SIZE, image_shape=IMAGE_SHAPE):\n",
        "  start_index = current_index * batch_size\n",
        "  end_index = start_index + batch_size\n",
        "  source_slice = source.iloc[start_index:end_index]\n",
        "  batch_images = []\n",
        "  for piece in source_slice:\n",
        "    img = imread(DATA_PATH + '/ISIC_2019_Training_Input/ISIC_2019_Training_Input/' + piece + '.jpg')\n",
        "    img = resize(img, image_shape)\n",
        "    batch_images.append(img)\n",
        "  batch_images = np.asarray(batch_images)\n",
        "  return batch_images"
      ],
      "execution_count": 20,
      "outputs": []
    },
    {
      "cell_type": "code",
      "metadata": {
        "id": "KNyuzlHTdA5f",
        "colab_type": "code",
        "colab": {}
      },
      "source": [
        "def get_categorical_batch(source, current_index, batch_size=BATCH_SIZE):\n",
        "  start_index = current_index * batch_size\n",
        "  end_index = start_index + batch_size\n",
        "  source_slice = source.iloc[start_index:end_index]\n",
        "\n",
        "  return source_slice"
      ],
      "execution_count": 21,
      "outputs": []
    },
    {
      "cell_type": "code",
      "metadata": {
        "id": "2xEQPc6OdAG0",
        "colab_type": "code",
        "colab": {}
      },
      "source": [
        "def get_target_slice(source, current_index, batch_size=BATCH_SIZE):\n",
        "  start_index = current_index * batch_size\n",
        "  end_index = start_index + batch_size\n",
        "  source_slice = source.iloc[start_index:end_index]\n",
        "\n",
        "  return source_slice"
      ],
      "execution_count": 22,
      "outputs": []
    },
    {
      "cell_type": "code",
      "metadata": {
        "id": "vnwsNmNcRXyM",
        "colab_type": "code",
        "colab": {}
      },
      "source": [
        "def image_input_nn(image_shape=IMAGE_SHAPE):\n",
        "  image_input = Input(shape=image_shape)\n",
        "\n",
        "  image_nn = layers.Conv2D(filters=64, kernel_size=(3,3), padding='same', strides=(1,1), activation='relu')(image_input)\n",
        "  image_nn = layers.Conv2D(filters=128, kernel_size=(3,3), padding='same', strides=(1,1), activation='relu')(image_nn)\n",
        "  image_nn = layers.Conv2D(filters=128, kernel_size=(3,3), padding='same', strides=(1,1), activation='relu')(image_nn)\n",
        "  \n",
        "  image_nn = layers.Flatten()(image_nn)\n",
        "\n",
        "  image_nn = layers.Dense(64, activation='relu')(image_nn)\n",
        "  image_nn = layers.Dense(1, activation='sigmoid')(image_nn)\n",
        "\n",
        "  image_nn = Model(inputs=image_input, outputs=image_nn)\n",
        "\n",
        "  return image_nn"
      ],
      "execution_count": 23,
      "outputs": []
    },
    {
      "cell_type": "code",
      "metadata": {
        "id": "yoEieGwWRXiY",
        "colab_type": "code",
        "colab": {}
      },
      "source": [
        "def categorical_input_nn(categorical_columns):\n",
        "  categorical_input = Input(shape=categorical_columns)\n",
        "\n",
        "  categorical_nn = layers.Dense(64, activation='relu')(categorical_input)\n",
        "  categorical_nn = layers.Dense(128, activation='relu')(categorical_nn)\n",
        "  categorical_nn = layers.Dense(128, activation='relu')(categorical_nn)\n",
        "  categorical_nn = layers.Dense(64, activation='relu')(categorical_nn)\n",
        "\n",
        "  categorical_nn = layers.Dense(1, activation='sigmoid')(categorical_nn)\n",
        "\n",
        "  categorical_nn = Model(inputs=categorical_input, outputs=categorical_nn)\n",
        "\n",
        "  return categorical_nn"
      ],
      "execution_count": 24,
      "outputs": []
    },
    {
      "cell_type": "code",
      "metadata": {
        "id": "BF8wuLnEYEnR",
        "colab_type": "code",
        "colab": {}
      },
      "source": [
        "def combined_model(image_nn, categorical_nn):\n",
        "  combined_input = layers.concatenate([image_nn.output, categorical_nn.output])\n",
        "\n",
        "  combined_nn = layers.Dense(2, activation='relu')(combined_input)\n",
        "  combined_nn = layers.Dense(1, activation='sigmoid')(combined_nn)\n",
        "\n",
        "  combined_nn = Model(inputs=[image_nn.input, categorical_nn.input], outputs=combined_nn)\n",
        "\n",
        "  return combined_nn"
      ],
      "execution_count": 25,
      "outputs": []
    },
    {
      "cell_type": "code",
      "metadata": {
        "id": "DU-afCVmYETD",
        "colab_type": "code",
        "colab": {
          "base_uri": "https://localhost:8080/",
          "height": 391
        },
        "outputId": "f2c5146d-c856-4ecb-f91a-ad3052913a62"
      },
      "source": [
        "image_nn = image_input_nn(IMAGE_SHAPE)\n",
        "image_nn.summary()"
      ],
      "execution_count": 26,
      "outputs": [
        {
          "output_type": "stream",
          "text": [
            "Model: \"functional_1\"\n",
            "_________________________________________________________________\n",
            "Layer (type)                 Output Shape              Param #   \n",
            "=================================================================\n",
            "input_1 (InputLayer)         [(None, 128, 128, 3)]     0         \n",
            "_________________________________________________________________\n",
            "conv2d (Conv2D)              (None, 128, 128, 64)      1792      \n",
            "_________________________________________________________________\n",
            "conv2d_1 (Conv2D)            (None, 128, 128, 128)     73856     \n",
            "_________________________________________________________________\n",
            "conv2d_2 (Conv2D)            (None, 128, 128, 128)     147584    \n",
            "_________________________________________________________________\n",
            "flatten (Flatten)            (None, 2097152)           0         \n",
            "_________________________________________________________________\n",
            "dense (Dense)                (None, 64)                134217792 \n",
            "_________________________________________________________________\n",
            "dense_1 (Dense)              (None, 1)                 65        \n",
            "=================================================================\n",
            "Total params: 134,441,089\n",
            "Trainable params: 134,441,089\n",
            "Non-trainable params: 0\n",
            "_________________________________________________________________\n"
          ],
          "name": "stdout"
        }
      ]
    },
    {
      "cell_type": "code",
      "metadata": {
        "id": "VIvnuqZDRXWY",
        "colab_type": "code",
        "colab": {
          "base_uri": "https://localhost:8080/",
          "height": 357
        },
        "outputId": "51cbd8dc-20a9-443c-aaf2-5e0d6f5a032e"
      },
      "source": [
        "categorical_nn = categorical_input_nn(X_train.drop(columns=['image']).columns.shape)\n",
        "categorical_nn.summary()"
      ],
      "execution_count": 27,
      "outputs": [
        {
          "output_type": "stream",
          "text": [
            "Model: \"functional_3\"\n",
            "_________________________________________________________________\n",
            "Layer (type)                 Output Shape              Param #   \n",
            "=================================================================\n",
            "input_2 (InputLayer)         [(None, 21)]              0         \n",
            "_________________________________________________________________\n",
            "dense_2 (Dense)              (None, 64)                1408      \n",
            "_________________________________________________________________\n",
            "dense_3 (Dense)              (None, 128)               8320      \n",
            "_________________________________________________________________\n",
            "dense_4 (Dense)              (None, 128)               16512     \n",
            "_________________________________________________________________\n",
            "dense_5 (Dense)              (None, 64)                8256      \n",
            "_________________________________________________________________\n",
            "dense_6 (Dense)              (None, 1)                 65        \n",
            "=================================================================\n",
            "Total params: 34,561\n",
            "Trainable params: 34,561\n",
            "Non-trainable params: 0\n",
            "_________________________________________________________________\n"
          ],
          "name": "stdout"
        }
      ]
    },
    {
      "cell_type": "code",
      "metadata": {
        "id": "o-SRRDEGRXKM",
        "colab_type": "code",
        "colab": {
          "base_uri": "https://localhost:8080/",
          "height": 714
        },
        "outputId": "669c6948-5ebc-4b85-8359-dde73c7ef5b1"
      },
      "source": [
        "combined_nn = combined_model(image_nn, categorical_nn)\n",
        "combined_nn.summary()"
      ],
      "execution_count": 28,
      "outputs": [
        {
          "output_type": "stream",
          "text": [
            "Model: \"functional_5\"\n",
            "__________________________________________________________________________________________________\n",
            "Layer (type)                    Output Shape         Param #     Connected to                     \n",
            "==================================================================================================\n",
            "input_1 (InputLayer)            [(None, 128, 128, 3) 0                                            \n",
            "__________________________________________________________________________________________________\n",
            "conv2d (Conv2D)                 (None, 128, 128, 64) 1792        input_1[0][0]                    \n",
            "__________________________________________________________________________________________________\n",
            "input_2 (InputLayer)            [(None, 21)]         0                                            \n",
            "__________________________________________________________________________________________________\n",
            "conv2d_1 (Conv2D)               (None, 128, 128, 128 73856       conv2d[0][0]                     \n",
            "__________________________________________________________________________________________________\n",
            "dense_2 (Dense)                 (None, 64)           1408        input_2[0][0]                    \n",
            "__________________________________________________________________________________________________\n",
            "conv2d_2 (Conv2D)               (None, 128, 128, 128 147584      conv2d_1[0][0]                   \n",
            "__________________________________________________________________________________________________\n",
            "dense_3 (Dense)                 (None, 128)          8320        dense_2[0][0]                    \n",
            "__________________________________________________________________________________________________\n",
            "flatten (Flatten)               (None, 2097152)      0           conv2d_2[0][0]                   \n",
            "__________________________________________________________________________________________________\n",
            "dense_4 (Dense)                 (None, 128)          16512       dense_3[0][0]                    \n",
            "__________________________________________________________________________________________________\n",
            "dense (Dense)                   (None, 64)           134217792   flatten[0][0]                    \n",
            "__________________________________________________________________________________________________\n",
            "dense_5 (Dense)                 (None, 64)           8256        dense_4[0][0]                    \n",
            "__________________________________________________________________________________________________\n",
            "dense_1 (Dense)                 (None, 1)            65          dense[0][0]                      \n",
            "__________________________________________________________________________________________________\n",
            "dense_6 (Dense)                 (None, 1)            65          dense_5[0][0]                    \n",
            "__________________________________________________________________________________________________\n",
            "concatenate (Concatenate)       (None, 2)            0           dense_1[0][0]                    \n",
            "                                                                 dense_6[0][0]                    \n",
            "__________________________________________________________________________________________________\n",
            "dense_7 (Dense)                 (None, 2)            6           concatenate[0][0]                \n",
            "__________________________________________________________________________________________________\n",
            "dense_8 (Dense)                 (None, 1)            3           dense_7[0][0]                    \n",
            "==================================================================================================\n",
            "Total params: 134,475,659\n",
            "Trainable params: 134,475,659\n",
            "Non-trainable params: 0\n",
            "__________________________________________________________________________________________________\n"
          ],
          "name": "stdout"
        }
      ]
    },
    {
      "cell_type": "code",
      "metadata": {
        "id": "6jFzQUngRW-J",
        "colab_type": "code",
        "colab": {
          "base_uri": "https://localhost:8080/",
          "height": 1000
        },
        "outputId": "8aa8e786-b22c-4d8b-a667-56dda21f4b86"
      },
      "source": [
        "plot_model(combined_nn, to_file=(path.join(OUTPUT_PATH,'Multiple Inputs Model.png')), show_shapes=True, show_layer_names=True)"
      ],
      "execution_count": 29,
      "outputs": [
        {
          "output_type": "execute_result",
          "data": {
            "image/png": "[encoded data removed]",
            "text/plain": [
              "<IPython.core.display.Image object>"
            ]
          },
          "metadata": {
            "tags": []
          },
          "execution_count": 29
        }
      ]
    },
    {
      "cell_type": "code",
      "metadata": {
        "id": "qHzP6qVrcV0t",
        "colab_type": "code",
        "colab": {}
      },
      "source": [
        "combined_nn.compile(optimizer=Adam(lr=0.001), loss=losses.binary_crossentropy, metrics=['accuracy'])"
      ],
      "execution_count": 30,
      "outputs": []
    },
    {
      "cell_type": "code",
      "metadata": {
        "id": "YACFLgL9RVWP",
        "colab_type": "code",
        "colab": {
          "base_uri": "https://localhost:8080/",
          "height": 1000
        },
        "outputId": "67202e9b-e3c4-479e-9fed-32f89e95692b"
      },
      "source": [
        "# Log the output\n",
        "with open(path.join(OUTPUT_PATH, 'log.csv'), 'w') as log:\n",
        "  log.write('Batch_Index,Loss,Accuracy\\n')\n",
        "\n",
        "total_batches = np.floor(len(X_train) / BATCH_SIZE)\n",
        "print(\"Total Batches:\", total_batches)\n",
        "for batch_index in range(int(total_batches+1)):\n",
        "  image_input = get_image_batch(X_train['image'], batch_index)\n",
        "  categorical_input = get_categorical_batch(X_train.drop(columns=['image']), batch_index)\n",
        "  target_input = get_target_slice(y_train, batch_index)\n",
        "\n",
        "  print('Training on batch_index:', batch_index)\n",
        "\n",
        "  batch_train_output = combined_nn.train_on_batch([image_input, categorical_input], target_input)\n",
        "  \n",
        "  # Append the log after every step\n",
        "  with open(path.join(OUTPUT_PATH, 'log.csv'), 'a') as log:\n",
        "    log.write('%d,%f,%f\\n' % (batch_index, batch_train_output[0], batch_train_output[1]))\n",
        "\n",
        "  # Save model after some iterations\n",
        "  if (((batch_index % 50) == 0) or (batch_index == total_batches)):\n",
        "    combined_nn.save(path.join(OUTPUT_PATH, 'models', ('combined_nn_'+str(batch_index)+'.h5')))"
      ],
      "execution_count": null,
      "outputs": [
        {
          "output_type": "stream",
          "text": [
            "Total Batches: 158.0\n",
            "Training on batch_index: 0\n",
            "Training on batch_index: 1\n",
            "Training on batch_index: 2\n",
            "Training on batch_index: 3\n",
            "Training on batch_index: 4\n",
            "Training on batch_index: 5\n",
            "Training on batch_index: 6\n",
            "Training on batch_index: 7\n",
            "Training on batch_index: 8\n",
            "Training on batch_index: 9\n",
            "Training on batch_index: 10\n",
            "Training on batch_index: 11\n",
            "Training on batch_index: 12\n",
            "Training on batch_index: 13\n",
            "Training on batch_index: 14\n",
            "Training on batch_index: 15\n",
            "Training on batch_index: 16\n",
            "Training on batch_index: 17\n",
            "Training on batch_index: 18\n",
            "Training on batch_index: 19\n",
            "Training on batch_index: 20\n",
            "Training on batch_index: 21\n",
            "Training on batch_index: 22\n",
            "Training on batch_index: 23\n",
            "Training on batch_index: 24\n",
            "Training on batch_index: 25\n",
            "Training on batch_index: 26\n",
            "Training on batch_index: 27\n",
            "Training on batch_index: 28\n",
            "Training on batch_index: 29\n",
            "Training on batch_index: 30\n",
            "Training on batch_index: 31\n",
            "Training on batch_index: 32\n",
            "Training on batch_index: 33\n",
            "Training on batch_index: 34\n",
            "Training on batch_index: 35\n",
            "Training on batch_index: 36\n",
            "Training on batch_index: 37\n",
            "Training on batch_index: 38\n",
            "Training on batch_index: 39\n",
            "Training on batch_index: 40\n",
            "Training on batch_index: 41\n",
            "Training on batch_index: 42\n",
            "Training on batch_index: 43\n",
            "Training on batch_index: 44\n",
            "Training on batch_index: 45\n",
            "Training on batch_index: 46\n",
            "Training on batch_index: 47\n",
            "Training on batch_index: 48\n",
            "Training on batch_index: 49\n",
            "Training on batch_index: 50\n",
            "Training on batch_index: 51\n",
            "Training on batch_index: 52\n",
            "Training on batch_index: 53\n",
            "Training on batch_index: 54\n",
            "Training on batch_index: 55\n",
            "Training on batch_index: 56\n",
            "Training on batch_index: 57\n",
            "Training on batch_index: 58\n",
            "Training on batch_index: 59\n",
            "Training on batch_index: 60\n",
            "Training on batch_index: 61\n",
            "Training on batch_index: 62\n",
            "Training on batch_index: 63\n",
            "Training on batch_index: 64\n",
            "Training on batch_index: 65\n",
            "Training on batch_index: 66\n",
            "Training on batch_index: 67\n",
            "Training on batch_index: 68\n",
            "Training on batch_index: 69\n",
            "Training on batch_index: 70\n",
            "Training on batch_index: 71\n",
            "Training on batch_index: 72\n",
            "Training on batch_index: 73\n",
            "Training on batch_index: 74\n",
            "Training on batch_index: 75\n",
            "Training on batch_index: 76\n",
            "Training on batch_index: 77\n",
            "Training on batch_index: 78\n",
            "Training on batch_index: 79\n",
            "Training on batch_index: 80\n",
            "Training on batch_index: 81\n",
            "Training on batch_index: 82\n",
            "Training on batch_index: 83\n",
            "Training on batch_index: 84\n",
            "Training on batch_index: 85\n",
            "Training on batch_index: 86\n",
            "Training on batch_index: 87\n",
            "Training on batch_index: 88\n",
            "Training on batch_index: 89\n",
            "Training on batch_index: 90\n",
            "Training on batch_index: 91\n",
            "Training on batch_index: 92\n",
            "Training on batch_index: 93\n",
            "Training on batch_index: 94\n",
            "Training on batch_index: 95\n",
            "Training on batch_index: 96\n",
            "Training on batch_index: 97\n",
            "Training on batch_index: 98\n",
            "Training on batch_index: 99\n",
            "Training on batch_index: 100\n",
            "Training on batch_index: 101\n",
            "Training on batch_index: 102\n",
            "Training on batch_index: 103\n",
            "Training on batch_index: 104\n",
            "Training on batch_index: 105\n",
            "Training on batch_index: 106\n",
            "Training on batch_index: 107\n",
            "Training on batch_index: 108\n",
            "Training on batch_index: 109\n",
            "Training on batch_index: 110\n",
            "Training on batch_index: 111\n",
            "Training on batch_index: 112\n",
            "Training on batch_index: 113\n",
            "Training on batch_index: 114\n",
            "Training on batch_index: 115\n",
            "Training on batch_index: 116\n",
            "Training on batch_index: 117\n",
            "Training on batch_index: 118\n",
            "Training on batch_index: 119\n",
            "Training on batch_index: 120\n",
            "Training on batch_index: 121\n",
            "Training on batch_index: 122\n",
            "Training on batch_index: 123\n",
            "Training on batch_index: 124\n",
            "Training on batch_index: 125\n",
            "Training on batch_index: 126\n",
            "Training on batch_index: 127\n",
            "Training on batch_index: 128\n",
            "Training on batch_index: 129\n",
            "Training on batch_index: 130\n",
            "Training on batch_index: 131\n",
            "Training on batch_index: 132\n",
            "Training on batch_index: 133\n",
            "Training on batch_index: 134\n",
            "Training on batch_index: 135\n",
            "Training on batch_index: 136\n",
            "Training on batch_index: 137\n",
            "Training on batch_index: 138\n"
          ],
          "name": "stdout"
        }
      ]
    },
    {
      "cell_type": "code",
      "metadata": {
        "id": "PTiB6Tfjfn2-",
        "colab_type": "code",
        "colab": {
          "base_uri": "https://localhost:8080/",
          "height": 714
        },
        "outputId": "953d43fa-7637-4b62-9d41-2dfa11d60e86"
      },
      "source": [
        "# Test the model\n",
        "# Log the output\n",
        "combined_nn = load_model(path.join(OUTPUT_PATH, 'models', 'combined_nn_150.h5'))\n",
        "with open(path.join(OUTPUT_PATH, 'test_log_150.csv'), 'w') as log:\n",
        "  log.write('Batch_Index,Loss,Accuracy\\n')\n",
        "\n",
        "total_batches = np.floor(len(X_test) / BATCH_SIZE)\n",
        "print(\"Total Batches:\", total_batches)\n",
        "for batch_index in range(int(total_batches+1)):\n",
        "  image_input = get_image_batch(X_test['image'], batch_index)\n",
        "  categorical_input = get_categorical_batch(X_test.drop(columns=['image']), batch_index)\n",
        "  target_input = get_target_slice(y_test, batch_index)\n",
        "\n",
        "  print('Testing on batch_index:', batch_index)\n",
        "\n",
        "  batch_test_output = combined_nn.test_on_batch([image_input, categorical_input], target_input)\n",
        "  \n",
        "  # Append the log after every step\n",
        "  with open(path.join(OUTPUT_PATH, 'test_log_150.csv'), 'a') as log:\n",
        "    log.write('%d,%f,%f\\n' % (batch_index, batch_test_output[0], batch_test_output[1]))"
      ],
      "execution_count": 36,
      "outputs": [
        {
          "output_type": "stream",
          "text": [
            "Total Batches: 39.0\n",
            "Testing on batch_index: 0\n",
            "Testing on batch_index: 1\n",
            "Testing on batch_index: 2\n",
            "Testing on batch_index: 3\n",
            "Testing on batch_index: 4\n",
            "Testing on batch_index: 5\n",
            "Testing on batch_index: 6\n",
            "Testing on batch_index: 7\n",
            "Testing on batch_index: 8\n",
            "Testing on batch_index: 9\n",
            "Testing on batch_index: 10\n",
            "Testing on batch_index: 11\n",
            "Testing on batch_index: 12\n",
            "Testing on batch_index: 13\n",
            "Testing on batch_index: 14\n",
            "Testing on batch_index: 15\n",
            "Testing on batch_index: 16\n",
            "Testing on batch_index: 17\n",
            "Testing on batch_index: 18\n",
            "Testing on batch_index: 19\n",
            "Testing on batch_index: 20\n",
            "Testing on batch_index: 21\n",
            "Testing on batch_index: 22\n",
            "Testing on batch_index: 23\n",
            "Testing on batch_index: 24\n",
            "Testing on batch_index: 25\n",
            "Testing on batch_index: 26\n",
            "Testing on batch_index: 27\n",
            "Testing on batch_index: 28\n",
            "Testing on batch_index: 29\n",
            "Testing on batch_index: 30\n",
            "Testing on batch_index: 31\n",
            "Testing on batch_index: 32\n",
            "Testing on batch_index: 33\n",
            "Testing on batch_index: 34\n",
            "Testing on batch_index: 35\n",
            "Testing on batch_index: 36\n",
            "Testing on batch_index: 37\n",
            "Testing on batch_index: 38\n",
            "Testing on batch_index: 39\n"
          ],
          "name": "stdout"
        }
      ]
    },
    {
      "cell_type": "code",
      "metadata": {
        "id": "cXFiGNj5By6g",
        "colab_type": "code",
        "colab": {
          "base_uri": "https://localhost:8080/",
          "height": 34
        },
        "outputId": "459f6c86-c686-4474-98fe-ff39821057ae"
      },
      "source": [
        "test_log = pd.read_csv(path.join(OUTPUT_PATH, 'test_log.csv'))\n",
        "print(np.average(test_log['Accuracy']))"
      ],
      "execution_count": 38,
      "outputs": [
        {
          "output_type": "stream",
          "text": [
            "0.8204141\n"
          ],
          "name": "stdout"
        }
      ]
    },
    {
      "cell_type": "code",
      "metadata": {
        "id": "jCXm7NOIOMT-",
        "colab_type": "code",
        "colab": {
          "base_uri": "https://localhost:8080/",
          "height": 34
        },
        "outputId": "68bfbe20-7ab6-450f-8bc6-6fac9ff84fe4"
      },
      "source": [
        "test_log = pd.read_csv(path.join(OUTPUT_PATH, 'test_log_150.csv'))\n",
        "print(np.average(test_log['Accuracy']))"
      ],
      "execution_count": 39,
      "outputs": [
        {
          "output_type": "stream",
          "text": [
            "0.8204141\n"
          ],
          "name": "stdout"
        }
      ]
    },
    {
      "cell_type": "code",
      "metadata": {
        "id": "Be95D40oOXWj",
        "colab_type": "code",
        "colab": {}
      },
      "source": [
        "def image_input_nn(image_shape):\n",
        "  image_input = Input(shape=image_shape)\n",
        "\n",
        "  image_nn = layers.Conv2D(filters=128, kernel_size=(3,3), padding='same', strides=(1,1), activation='relu')(image_input)\n",
        "  image_nn = layers.Conv2D(filters=128, kernel_size=(3,3), padding='same', strides=(1,1), activation='relu')(image_nn)\n",
        "  image_nn = layers.Conv2D(filters=128, kernel_size=(3,3), padding='same', strides=(1,1), activation='relu')(image_nn)\n",
        "  \n",
        "  image_nn = layers.Flatten()(image_nn)\n",
        "\n",
        "  image_nn = layers.Dense(64, activation='relu')(image_nn)\n",
        "  image_nn = layers.Dense(1, activation='sigmoid')(image_nn)\n",
        "\n",
        "  image_nn = Model(inputs=image_input, outputs=image_nn)\n",
        "\n",
        "  return image_nn"
      ],
      "execution_count": 43,
      "outputs": []
    },
    {
      "cell_type": "code",
      "metadata": {
        "id": "JuNlZaWGfAMF",
        "colab_type": "code",
        "colab": {}
      },
      "source": [
        "def categorical_input_nn(categorical_columns):\n",
        "  categorical_input = Input(shape=categorical_columns)\n",
        "\n",
        "  categorical_nn = layers.Dense(64, activation='relu')(categorical_input)\n",
        "  categorical_nn = layers.Dense(64, activation='relu')(categorical_nn)\n",
        "  categorical_nn = layers.Dense(64, activation='relu')(categorical_nn)\n",
        "\n",
        "  categorical_nn = layers.Dense(1, activation='sigmoid')(categorical_nn)\n",
        "\n",
        "  categorical_nn = Model(inputs=categorical_input, outputs=categorical_nn)\n",
        "\n",
        "  return categorical_nn"
      ],
      "execution_count": 41,
      "outputs": []
    },
    {
      "cell_type": "code",
      "metadata": {
        "id": "e4U9vbT7fLHJ",
        "colab_type": "code",
        "colab": {}
      },
      "source": [
        "def combined_model(list_networks):\n",
        "  \n",
        "  list_network_inputs = []\n",
        "  list_network_outputs = []\n",
        "  for network in list_networks:\n",
        "    list_network_inputs.append(network.input)\n",
        "    list_network_outputs.append(network.output)\n",
        "  \n",
        "  combined_input = layers.concatenate(list_network_outputs)\n",
        "\n",
        "  combined_nn = layers.Dense(2, activation='relu')(combined_input)\n",
        "  combined_nn = layers.Dense(1, activation='sigmoid')(combined_nn)\n",
        "\n",
        "  combined_nn = Model(inputs=list_network_inputs, outputs=combined_nn)\n",
        "\n",
        "  return combined_nn"
      ],
      "execution_count": 42,
      "outputs": []
    },
    {
      "cell_type": "code",
      "metadata": {
        "id": "MGSdc6UbfvW8",
        "colab_type": "code",
        "colab": {
          "base_uri": "https://localhost:8080/",
          "height": 935
        },
        "outputId": "32630b8f-761d-4f03-828f-cc1a23bc8cce"
      },
      "source": [
        "color_image_nn = image_input_nn((128,128,3))\n",
        "bw_image_nn = image_input_nn((64,64,1))\n",
        "cat_num_nn = categorical_input_nn((20,))\n",
        "combined_network = combined_model([color_image_nn, bw_image_nn, cat_num_nn])\n",
        "combined_network.summary()"
      ],
      "execution_count": 44,
      "outputs": [
        {
          "output_type": "stream",
          "text": [
            "Model: \"functional_13\"\n",
            "__________________________________________________________________________________________________\n",
            "Layer (type)                    Output Shape         Param #     Connected to                     \n",
            "==================================================================================================\n",
            "input_3 (InputLayer)            [(None, 128, 128, 3) 0                                            \n",
            "__________________________________________________________________________________________________\n",
            "input_4 (InputLayer)            [(None, 64, 64, 1)]  0                                            \n",
            "__________________________________________________________________________________________________\n",
            "conv2d_3 (Conv2D)               (None, 128, 128, 128 3584        input_3[0][0]                    \n",
            "__________________________________________________________________________________________________\n",
            "conv2d_6 (Conv2D)               (None, 64, 64, 128)  1280        input_4[0][0]                    \n",
            "__________________________________________________________________________________________________\n",
            "conv2d_4 (Conv2D)               (None, 128, 128, 128 147584      conv2d_3[0][0]                   \n",
            "__________________________________________________________________________________________________\n",
            "conv2d_7 (Conv2D)               (None, 64, 64, 128)  147584      conv2d_6[0][0]                   \n",
            "__________________________________________________________________________________________________\n",
            "input_5 (InputLayer)            [(None, 20)]         0                                            \n",
            "__________________________________________________________________________________________________\n",
            "conv2d_5 (Conv2D)               (None, 128, 128, 128 147584      conv2d_4[0][0]                   \n",
            "__________________________________________________________________________________________________\n",
            "conv2d_8 (Conv2D)               (None, 64, 64, 128)  147584      conv2d_7[0][0]                   \n",
            "__________________________________________________________________________________________________\n",
            "dense_13 (Dense)                (None, 64)           1344        input_5[0][0]                    \n",
            "__________________________________________________________________________________________________\n",
            "flatten_1 (Flatten)             (None, 2097152)      0           conv2d_5[0][0]                   \n",
            "__________________________________________________________________________________________________\n",
            "flatten_2 (Flatten)             (None, 524288)       0           conv2d_8[0][0]                   \n",
            "__________________________________________________________________________________________________\n",
            "dense_14 (Dense)                (None, 64)           4160        dense_13[0][0]                   \n",
            "__________________________________________________________________________________________________\n",
            "dense_9 (Dense)                 (None, 64)           134217792   flatten_1[0][0]                  \n",
            "__________________________________________________________________________________________________\n",
            "dense_11 (Dense)                (None, 64)           33554496    flatten_2[0][0]                  \n",
            "__________________________________________________________________________________________________\n",
            "dense_15 (Dense)                (None, 64)           4160        dense_14[0][0]                   \n",
            "__________________________________________________________________________________________________\n",
            "dense_10 (Dense)                (None, 1)            65          dense_9[0][0]                    \n",
            "__________________________________________________________________________________________________\n",
            "dense_12 (Dense)                (None, 1)            65          dense_11[0][0]                   \n",
            "__________________________________________________________________________________________________\n",
            "dense_16 (Dense)                (None, 1)            65          dense_15[0][0]                   \n",
            "__________________________________________________________________________________________________\n",
            "concatenate_1 (Concatenate)     (None, 3)            0           dense_10[0][0]                   \n",
            "                                                                 dense_12[0][0]                   \n",
            "                                                                 dense_16[0][0]                   \n",
            "__________________________________________________________________________________________________\n",
            "dense_17 (Dense)                (None, 2)            8           concatenate_1[0][0]              \n",
            "__________________________________________________________________________________________________\n",
            "dense_18 (Dense)                (None, 1)            3           dense_17[0][0]                   \n",
            "==================================================================================================\n",
            "Total params: 168,377,358\n",
            "Trainable params: 168,377,358\n",
            "Non-trainable params: 0\n",
            "__________________________________________________________________________________________________\n"
          ],
          "name": "stdout"
        }
      ]
    },
    {
      "cell_type": "code",
      "metadata": {
        "id": "AsFAr4xNgbtW",
        "colab_type": "code",
        "colab": {
          "base_uri": "https://localhost:8080/",
          "height": 1000
        },
        "outputId": "1f09bcbc-c4b8-4fb9-83f5-ab90eb1f0ac7"
      },
      "source": [
        "plot_model(combined_network, to_file=(path.join(OUTPUT_PATH,'Three Inputs Model.png')), show_shapes=True, show_layer_names=True)"
      ],
      "execution_count": 45,
      "outputs": [
        {
          "output_type": "execute_result",
          "data": {
            "image/png": "[encoded data removed]",
            "text/plain": [
              "<IPython.core.display.Image object>"
            ]
          },
          "metadata": {
            "tags": []
          },
          "execution_count": 45
        }
      ]
    },
    {
      "cell_type": "code",
      "metadata": {
        "id": "zQ-UC5prgiy6",
        "colab_type": "code",
        "colab": {}
      },
      "source": [
        ""
      ],
      "execution_count": null,
      "outputs": []
    }
  ]
}